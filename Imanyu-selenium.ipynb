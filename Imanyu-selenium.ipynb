{
 "cells": [
  {
   "cell_type": "code",
   "execution_count": 11,
   "id": "69e12e10-03b6-457b-8ea7-6eed76a6a179",
   "metadata": {},
   "outputs": [
    {
     "name": "stdout",
     "output_type": "stream",
     "text": [
      "Selenium version: 4.31.1\n"
     ]
    }
   ],
   "source": [
    "from selenium import webdriver\n",
    "from selenium.webdriver.chrome.service import Service\n",
    "from webdriver_manager.chrome import ChromeDriverManager\n",
    "from selenium.webdriver.common.by import By\n",
    "import time\n",
    "\n",
    "print(f\"Selenium version: {selenium.__version__}\")"
   ]
  },
  {
   "cell_type": "code",
   "execution_count": 20,
   "id": "d1534ed1-abca-448c-96f8-01604f754053",
   "metadata": {},
   "outputs": [],
   "source": [
    "service = Service(ChromeDriverManager().install())\n",
    "driver = webdriver.Chrome(service=service)\n",
    "\n",
    "driver.get(\"https://scraping-for-beginner.herokuapp.com/login_page\")\n",
    "time.sleep(2)\n",
    "\n",
    "elem_username = driver.find_element(By.ID, 'username')\n",
    "elem_username.send_keys(\"imanishi\")\n",
    "\n",
    "elem_password = driver.find_element(By.ID, 'password')\n",
    "elem_password.send_keys(\"kohei\")\n",
    "\n",
    "elem_login_btn = driver.find_element(By.ID, 'login-btn')\n",
    "elem_login_btn.click()\n",
    "\n",
    "\n",
    "time.sleep(5)\n",
    "driver.quit()"
   ]
  },
  {
   "cell_type": "code",
   "execution_count": null,
   "id": "3e39bf0f-553f-47a4-8744-77107eb55779",
   "metadata": {},
   "outputs": [],
   "source": []
  }
 ],
 "metadata": {
  "kernelspec": {
   "display_name": "Python 3 (ipykernel)",
   "language": "python",
   "name": "python3"
  },
  "language_info": {
   "codemirror_mode": {
    "name": "ipython",
    "version": 3
   },
   "file_extension": ".py",
   "mimetype": "text/x-python",
   "name": "python",
   "nbconvert_exporter": "python",
   "pygments_lexer": "ipython3",
   "version": "3.8.19"
  }
 },
 "nbformat": 4,
 "nbformat_minor": 5
}
